{
 "cells": [
  {
   "cell_type": "markdown",
   "metadata": {},
   "source": [
    "# Import"
   ]
  },
  {
   "cell_type": "code",
   "execution_count": 2,
   "metadata": {},
   "outputs": [],
   "source": [
    "%matplotlib inline\n",
    "import pandas as pd\n",
    "\n",
    "from requests_html import HTMLSession\n",
    "from bs4 import BeautifulSoup\n",
    "import json"
   ]
  },
  {
   "cell_type": "markdown",
   "metadata": {},
   "source": [
    "# Thu thập dữ liệu\n",
    "- Nguồn dữ liệu: https://www.cars-data.com/en/"
   ]
  },
  {
   "cell_type": "code",
   "execution_count": null,
   "metadata": {},
   "outputs": [],
   "source": [
    "url = 'https://www.cars-data.com/en/all-cars.html'\n",
    "Session = HTMLSession()\n",
    "res = Session.get(url)\n",
    "s = HTMLSession()"
   ]
  },
  {
   "cell_type": "code",
   "execution_count": null,
   "metadata": {},
   "outputs": [],
   "source": [
    "link_car_urls=[] # List chứa các link xe chưa tính các mẫu của mỗi xe\n",
    "for html in res.html: #Get link của các xe ở tất cả trang\n",
    "    cars_one_page = html.find('section.models > div.col-4')\n",
    "    #print(html.url)\n",
    "    for car in cars_one_page: #Get link của các xe ở một trang\n",
    "        url = car.find('a', first = True).attrs['href']\n",
    "        link_car_urls.append(url)\n",
    "        \n",
    "df = pd.DataFrame({'urls': link_car_urls}) # Ghi vào file link_car_urls.csv\n",
    "df.to_csv(\"link_car_urls.csv\", sep = '\\t')"
   ]
  },
  {
   "cell_type": "code",
   "execution_count": null,
   "metadata": {},
   "outputs": [],
   "source": [
    "len(link_car_urls)"
   ]
  },
  {
   "cell_type": "code",
   "execution_count": null,
   "metadata": {},
   "outputs": [],
   "source": [
    "all_link_car_urls=[] #List chứa tất cả các xe bao gồm nhiều mẫu của từng xe\n",
    "for car_url in link_car_urls:\n",
    "    r = s.get(car_url)\n",
    "    section_types = r.html.find('section.types', first = True)\n",
    "    urls = section_types.find('h2 > a')\n",
    "    for url in urls: #Duyệt vào trong từng link xe ở list car_urls\n",
    "        if (url.attrs['href'] != \"\"):\n",
    "            all_link_car_urls.append(url.attrs['href'])\n",
    "    print(len(all_link_car_urls), end='\\r')"
   ]
  },
  {
   "cell_type": "code",
   "execution_count": null,
   "metadata": {},
   "outputs": [],
   "source": [
    "len(all_link_car_urls)"
   ]
  },
  {
   "cell_type": "code",
   "execution_count": null,
   "metadata": {},
   "outputs": [],
   "source": [
    "df = pd.DataFrame({'all_models_cars': all_link_car_urls})\n",
    "df.to_csv(\"all_models_cars.csv\", sep = '\\t')"
   ]
  },
  {
   "cell_type": "code",
   "execution_count": null,
   "metadata": {},
   "outputs": [],
   "source": [
    "pd.set_option('display.max_colwidth', None)\n",
    "all_cars=pd.read_csv('all_models_cars.csv', sep = '\\t')['all_models_cars']\n",
    "all_cars"
   ]
  },
  {
   "cell_type": "code",
   "execution_count": null,
   "metadata": {},
   "outputs": [],
   "source": [
    "# Hàm này là 80% code tham khảo.\n",
    "def get_detail_car_info(list_url, file_out_name):\n",
    "    \n",
    "    file_out = open(file_out_name, 'w', encoding='utf-8')\n",
    "    file_out.write(f'url\\tname\\tmodel\\tbrand\\teLabel\\tbodyType\\tlength\\theight\\twidth\\tweight\\tweightTotal\\temissionsCO2\\tmodelDate\\tfuelType\\tnumberOfAxles\\tnumberOfDoors\\tnumberOfForwardGears\\tseatingCapacity\\tvehicleTransmission\\tcargoVolume\\troofLoad\\taccelerationTime\\tdriveWheelConfiguration\\tfuelCapacity\\tfuelConsumption\\tspeed\\tpayload\\ttrailerWeight\\tvEengineType\\tvEfuelType\\tvEengineDisplacement\\tvEenginePower\\ttorque\\tprice\\n')\n",
    "    count=0\n",
    "    for url in list_url:\n",
    "        r = s.get(url)\n",
    "        #print(r)\n",
    "        # Get\n",
    "        dts = r.html.find('dt.col-6')\n",
    "        dds = r.html.find('dd.col-6')\n",
    "        price = 0.0\n",
    "        eLabel = 'NULL'\n",
    "        length = 0.0\n",
    "        for i in range(len(dts)):\n",
    "            if (dts[i].text == 'price:'):\n",
    "                price = dds[i].text.split()[-1]\n",
    "            if (dts[i].text == 'energy label:'):\n",
    "                eLabel = dds[i].text\n",
    "            if (dts[i].text == 'length:'):\n",
    "                length = dds[i].text.split()[0]\n",
    "\n",
    "        soup = BeautifulSoup(r.html.html, 'html.parser')\n",
    "        js = json.loads(soup.select_one(\"script[type='application/ld+json']\").string)\n",
    "\n",
    "        name = js.get('name', \"NA\")\n",
    "        bodyType = js.get('bodyType', \"NA\")\n",
    "        emissionsCO2 = js.get('emissionsCO2', \"NA\")\n",
    "        modelDate = js.get('modelDate', \"NA\")\n",
    "        fuelType = js.get('fuelType', \"NA\")\n",
    "        numberOfAxles = js.get('numberOfAxles', \"NA\")\n",
    "        numberOfDoors = js.get('numberOfDoors', \"NA\")\n",
    "        numberOfForwardGears = js.get('numberOfForwardGears', \"NA\")\n",
    "        seatingCapacity = js.get('seatingCapacity', \"NA\")\n",
    "        vehicleTransmission = js.get('vehicleTransmission', \"NA\")\n",
    "        model = js.get('model', \"NA\")\n",
    "        url  = js.get('url', \"NA\")\n",
    "        cargoVolume = js.get('cargoVolume', \"NA\")\n",
    "        roofLoad = js.get('roofLoad', \"NA\")\n",
    "        accelerationTime = js.get('accelerationTime', \"NA\")\n",
    "        driveWheelConfiguration  = js.get('driveWheelConfiguration', {}).get('name', \"NA\")\n",
    "        fuelCapacity = js.get('fuelCapacity', \"NA\")\n",
    "        fuelConsumption = js.get('fuelConsumption', \"NA\")\n",
    "        speed = js.get('speed', \"NA\")\n",
    "        payload = js.get('payload', \"NA\")\n",
    "        trailerWeight = js.get('trailerWeight', \"NA\")\n",
    "        vEengineType = js.get('vehicleEngine', {}).get('engineType', \"NA\")\n",
    "        vEfuelType = js.get('vehicleEngine', {}).get('fuelType', \"NA\")\n",
    "        vEengineDisplacement = js.get('vehicleEngine', {}).get('engineDisplacement', \"NA\")\n",
    "        vEenginePower = js.get('vehicleEngine', {}).get('enginePower', \"NA\")\n",
    "        torque = js.get('vehicleEngine', {}).get('torque', \"NA\")\n",
    "        weightTotal = js.get('weightTotal', \"NA\")\n",
    "        wheelbase = js.get('wheelbase', \"NA\")\n",
    "        height = js.get('height', \"NA\")\n",
    "        brand = js.get('manufacturer', {}).get('name', \"NA\")\n",
    "        weight = js.get('weight', \"NA\")\n",
    "        width = js.get('width', \"NA\")\n",
    "        file_out.write(f'{url}\\t{name}\\t{model}\\t{brand}\\t{eLabel}\\t{bodyType}\\t{length}\\t{height}\\t{width}\\t{weight}\\t{weightTotal}\\t{emissionsCO2}\\t{modelDate}\\t{fuelType}\\t{numberOfAxles}\\t{numberOfDoors}\\t{numberOfForwardGears}\\t{seatingCapacity}\\t{vehicleTransmission}\\t{cargoVolume}\\t{roofLoad}\\t{accelerationTime}\\t{driveWheelConfiguration}\\t{fuelCapacity}\\t{fuelConsumption}\\t{speed}\\t{payload}\\t{trailerWeight}\\t{vEengineType}\\t{vEfuelType}\\t{vEengineDisplacement}\\t{vEenginePower}\\t{torque}\\t{price}\\n')\n",
    "        count+=1\n",
    "        print(count,end='\\r')\n",
    "    file_out.close()"
   ]
  },
  {
   "cell_type": "code",
   "execution_count": null,
   "metadata": {},
   "outputs": [],
   "source": [
    "get_detail_car_info(all_cars, 'all_cars.data')"
   ]
  }
 ],
 "metadata": {
  "kernelspec": {
   "display_name": "Python 3",
   "language": "python",
   "name": "python3"
  },
  "language_info": {
   "codemirror_mode": {
    "name": "ipython",
    "version": 3
   },
   "file_extension": ".py",
   "mimetype": "text/x-python",
   "name": "python",
   "nbconvert_exporter": "python",
   "pygments_lexer": "ipython3",
   "version": "3.8.3"
  }
 },
 "nbformat": 4,
 "nbformat_minor": 4
}
